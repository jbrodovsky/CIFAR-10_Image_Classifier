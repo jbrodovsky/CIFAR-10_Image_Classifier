{
 "cells": [
  {
   "cell_type": "markdown",
   "metadata": {},
   "source": [
    "# Introduction\n",
    "\n",
    "In this project, you will build a neural network of your own design to evaluate the CIFAR-10 dataset.\n",
    "Our target accuracy is 70%, but any accuracy over 50% is a great start.\n",
    "Some of the benchmark results on CIFAR-10 include:\n",
    "\n",
    "78.9% Accuracy | [Deep Belief Networks; Krizhevsky, 2010](https://www.cs.toronto.edu/~kriz/conv-cifar10-aug2010.pdf)\n",
    "\n",
    "90.6% Accuracy | [Maxout Networks; Goodfellow et al., 2013](https://arxiv.org/pdf/1302.4389.pdf)\n",
    "\n",
    "96.0% Accuracy | [Wide Residual Networks; Zagoruyko et al., 2016](https://arxiv.org/pdf/1605.07146.pdf)\n",
    "\n",
    "99.0% Accuracy | [GPipe; Huang et al., 2018](https://arxiv.org/pdf/1811.06965.pdf)\n",
    "\n",
    "98.5% Accuracy | [Rethinking Recurrent Neural Networks and other Improvements for ImageClassification; Nguyen et al., 2020](https://arxiv.org/pdf/2007.15161.pdf)\n",
    "\n",
    "Research with this dataset is ongoing. Notably, many of these networks are quite large and quite expensive to train. \n",
    "\n",
    "## Imports"
   ]
  },
  {
   "cell_type": "code",
   "execution_count": 1,
   "metadata": {},
   "outputs": [],
   "source": [
    "## This cell contains the essential imports you will need – DO NOT CHANGE THE CONTENTS! ##\n",
    "import torch\n",
    "import torch.nn as nn\n",
    "import torch.nn.functional as F\n",
    "import torch.optim as optim\n",
    "import torchvision\n",
    "import torchvision.transforms as transforms\n",
    "import matplotlib.pyplot as plt\n",
    "import numpy as np"
   ]
  },
  {
   "cell_type": "markdown",
   "metadata": {},
   "source": [
    "## Load the Dataset\n",
    "\n",
    "Specify your transforms as a list first.\n",
    "The transforms module is already loaded as `transforms`.\n",
    "\n",
    "CIFAR-10 is fortunately included in the torchvision module.\n",
    "Then, you can create your dataset using the `CIFAR10` object from `torchvision.datasets` ([the documentation is available here](https://pytorch.org/docs/stable/torchvision/datasets.html#cifar)).\n",
    "Make sure to specify `download=True`! \n",
    "\n",
    "Once your dataset is created, you'll also need to define a `DataLoader` from the `torch.utils.data` module for both the train and the test set."
   ]
  },
  {
   "cell_type": "code",
   "execution_count": 34,
   "metadata": {},
   "outputs": [
    {
     "name": "stdout",
     "output_type": "stream",
     "text": [
      "Files already downloaded and verified\n",
      "Files already downloaded and verified\n"
     ]
    }
   ],
   "source": [
    "# Define transforms\n",
    "## YOUR CODE HERE ##\n",
    "transform = transforms.Compose([transforms.ToTensor(),\n",
    "                                #transforms.RandomCrop(0.75),\n",
    "                                transforms.RandomGrayscale(p=0.5),\n",
    "                                transforms.RandomHorizontalFlip(p=0.5),\n",
    "                                transforms.RandomVerticalFlip(p=0.5),\n",
    "                                transforms.RandomRotation(45),\n",
    "                                transforms.Normalize((0.5, 0.5, 0.5), (0.5, 0.5, 0.5))\n",
    "                               ])\n",
    "\n",
    "val_transform = transforms.Compose([transforms.ToTensor(), transforms.Normalize((0.5, 0.5, 0.5), (0.5, 0.5, 0.5))])\n",
    "                                         \n",
    "# Create training set and define training dataloader\n",
    "train_dir = './data/train/'\n",
    "train = torchvision.datasets.CIFAR10(train_dir, download=True, train=True, transform=transform)\n",
    "train_dataloader = torch.utils.data.DataLoader(train, batch_size=64, shuffle=True)\n",
    "\n",
    "# Create test set and define test dataloader\n",
    "## YOUR CODE HERE ##\n",
    "test_dir = './data/test/'\n",
    "test = torchvision.datasets.CIFAR10(test_dir, download=True, train=False, transform=val_transform)\n",
    "test_dataloader = torch.utils.data.DataLoader(test, batch_size=64, shuffle=True)\n",
    "\n",
    "# The 10 classes in the dataset\n",
    "classes = ('plane', 'car', 'bird', 'cat', 'deer', 'dog', 'frog', 'horse', 'ship', 'truck')"
   ]
  },
  {
   "cell_type": "markdown",
   "metadata": {},
   "source": [
    "## Explore the Dataset\n",
    "Using matplotlib, numpy, and torch, explore the dimensions of your data.\n",
    "\n",
    "You can view images using the `show5` function defined below – it takes a data loader as an argument.\n",
    "Remember that normalized images will look really weird to you! You may want to try changing your transforms to view images.\n",
    "Typically using no transforms other than `toTensor()` works well for viewing – but not as well for training your network.\n",
    "If `show5` doesn't work, go back and check your code for creating your data loaders and your training/test sets."
   ]
  },
  {
   "cell_type": "code",
   "execution_count": 35,
   "metadata": {},
   "outputs": [],
   "source": [
    "from scipy import ndimage\n",
    "\n",
    "def show5(img_loader):\n",
    "    dataiter = iter(img_loader)\n",
    "    \n",
    "    batch = next(dataiter)\n",
    "    labels = batch[1][0:5]\n",
    "    images = batch[0][0:5]\n",
    "    for i in range(5):\n",
    "        print(classes[labels[i]])\n",
    "    \n",
    "        image = images[i].numpy()\n",
    "        #image = ndimage.rotate(image.T, -90)\n",
    "        plt.imshow(image.T)\n",
    "        plt.show()"
   ]
  },
  {
   "cell_type": "code",
   "execution_count": 36,
   "metadata": {},
   "outputs": [
    {
     "name": "stdout",
     "output_type": "stream",
     "text": [
      "Files already downloaded and verified\n",
      "plane\n"
     ]
    },
    {
     "data": {
      "image/png": "[encoded data removed]",
      "text/plain": [
       "<Figure size 432x288 with 1 Axes>"
      ]
     },
     "metadata": {
      "needs_background": "light"
     },
     "output_type": "display_data"
    },
    {
     "name": "stdout",
     "output_type": "stream",
     "text": [
      "plane\n"
     ]
    },
    {
     "data": {
      "image/png": "[encoded data removed]",
      "text/plain": [
       "<Figure size 432x288 with 1 Axes>"
      ]
     },
     "metadata": {
      "needs_background": "light"
     },
     "output_type": "display_data"
    },
    {
     "name": "stdout",
     "output_type": "stream",
     "text": [
      "deer\n"
     ]
    },
    {
     "data": {
      "image/png": "[encoded data removed]",
      "text/plain": [
       "<Figure size 432x288 with 1 Axes>"
      ]
     },
     "metadata": {
      "needs_background": "light"
     },
     "output_type": "display_data"
    },
    {
     "name": "stdout",
     "output_type": "stream",
     "text": [
      "deer\n"
     ]
    },
    {
     "data": {
      "image/png": "[encoded data removed]",
      "text/plain": [
       "<Figure size 432x288 with 1 Axes>"
      ]
     },
     "metadata": {
      "needs_background": "light"
     },
     "output_type": "display_data"
    },
    {
     "name": "stdout",
     "output_type": "stream",
     "text": [
      "car\n"
     ]
    },
    {
     "data": {
      "image/png": "[encoded data removed]",
      "text/plain": [
       "<Figure size 432x288 with 1 Axes>"
      ]
     },
     "metadata": {
      "needs_background": "light"
     },
     "output_type": "display_data"
    }
   ],
   "source": [
    "# Explore data\n",
    "## YOUR CODE HERE ##\n",
    "explore = torchvision.datasets.CIFAR10(train_dir, \n",
    "                                        download=True, \n",
    "                                        train=True, \n",
    "                                        transform=transforms.Compose([transforms.ToTensor()])\n",
    "                                       )\n",
    "explore_loader = torch.utils.data.DataLoader(explore, batch_size=64, shuffle=True)\n",
    "show5(explore_loader)"
   ]
  },
  {
   "cell_type": "markdown",
   "metadata": {},
   "source": [
    "## Build your Neural Network\n",
    "Using the layers in `torch.nn` (which has been imported as `nn`) and the `torch.nn.functional` module (imported as `F`), construct a neural network based on the parameters of the dataset. \n",
    "Feel free to construct a model of any architecture – feedforward, convolutional, or even something more advanced!"
   ]
  },
  {
   "cell_type": "code",
   "execution_count": 37,
   "metadata": {},
   "outputs": [],
   "source": [
    "## YOUR CODE HERE ##\n",
    "#from torchinfo import summary\n",
    "\n",
    "class CIFAR10Classifier(nn.Module):   \n",
    "    def __init__(self):\n",
    "        super(CIFAR10Classifier, self).__init__()\n",
    "\n",
    "        self.cnn_layers = nn.Sequential(\n",
    "            # Defining a 2D convolution layer\n",
    "            nn.Conv2d(3, 27, kernel_size=5, stride=1, padding=1),\n",
    "            nn.BatchNorm2d(27),\n",
    "            nn.ReLU(inplace=True),\n",
    "            nn.Dropout(p=0.25),\n",
    "            nn.MaxPool2d(kernel_size=3, stride=1),\n",
    "            # Defining another 2D convolution layer\n",
    "            nn.Conv2d(27, 18, kernel_size=5, stride=1, padding=1),\n",
    "            nn.BatchNorm2d(18),\n",
    "            nn.ReLU(inplace=True),\n",
    "            nn.Dropout(p=0.25),\n",
    "            nn.MaxPool2d(kernel_size=3, stride=1),\n",
    "        )\n",
    "\n",
    "        self.linear_layers = nn.Sequential(\n",
    "            nn.Linear(10368, 1024),\n",
    "            nn.ReLU(inplace=True),\n",
    "            nn.Dropout(p=0.25),\n",
    "            nn.Linear(1024, 256),\n",
    "            nn.ReLU(inplace=True),\n",
    "            nn.Dropout(p=0.25),\n",
    "            nn.Linear(256, 128),\n",
    "            nn.ReLU(inplace=True),\n",
    "            nn.Dropout(p=0.25),\n",
    "            nn.Linear(128, 64),\n",
    "            nn.ReLU(inplace=True),\n",
    "            nn.Dropout(p=0.25),\n",
    "            nn.Linear(64, 10)\n",
    "        )\n",
    "    # Defining the forward pass    \n",
    "    def forward(self, x):\n",
    "        x = self.cnn_layers(x)\n",
    "        x = x.view(x.size(0), -1)\n",
    "        x = self.linear_layers(x)\n",
    "        x = F.log_softmax(x, dim=1)\n",
    "        return x"
   ]
  },
  {
   "cell_type": "markdown",
   "metadata": {},
   "source": [
    "Specify a loss function and an optimizer, and instantiate the model.\n",
    "\n",
    "If you use a less common loss function, please note why you chose that loss function in a comment."
   ]
  },
  {
   "cell_type": "code",
   "execution_count": 38,
   "metadata": {},
   "outputs": [
    {
     "name": "stdout",
     "output_type": "stream",
     "text": [
      "CIFAR10Classifier(\n",
      "  (cnn_layers): Sequential(\n",
      "    (0): Conv2d(3, 27, kernel_size=(5, 5), stride=(1, 1), padding=(1, 1))\n",
      "    (1): BatchNorm2d(27, eps=1e-05, momentum=0.1, affine=True, track_running_stats=True)\n",
      "    (2): ReLU(inplace=True)\n",
      "    (3): Dropout(p=0.25, inplace=False)\n",
      "    (4): MaxPool2d(kernel_size=3, stride=1, padding=0, dilation=1, ceil_mode=False)\n",
      "    (5): Conv2d(27, 18, kernel_size=(5, 5), stride=(1, 1), padding=(1, 1))\n",
      "    (6): BatchNorm2d(18, eps=1e-05, momentum=0.1, affine=True, track_running_stats=True)\n",
      "    (7): ReLU(inplace=True)\n",
      "    (8): Dropout(p=0.25, inplace=False)\n",
      "    (9): MaxPool2d(kernel_size=3, stride=1, padding=0, dilation=1, ceil_mode=False)\n",
      "  )\n",
      "  (linear_layers): Sequential(\n",
      "    (0): Linear(in_features=10368, out_features=1024, bias=True)\n",
      "    (1): ReLU(inplace=True)\n",
      "    (2): Dropout(p=0.25, inplace=False)\n",
      "    (3): Linear(in_features=1024, out_features=256, bias=True)\n",
      "    (4): ReLU(inplace=True)\n",
      "    (5): Dropout(p=0.25, inplace=False)\n",
      "    (6): Linear(in_features=256, out_features=128, bias=True)\n",
      "    (7): ReLU(inplace=True)\n",
      "    (8): Dropout(p=0.25, inplace=False)\n",
      "    (9): Linear(in_features=128, out_features=64, bias=True)\n",
      "    (10): ReLU(inplace=True)\n",
      "    (11): Dropout(p=0.25, inplace=False)\n",
      "    (12): Linear(in_features=64, out_features=10, bias=True)\n",
      "  )\n",
      ")\n"
     ]
    }
   ],
   "source": [
    "## YOUR CODE HERE ##\n",
    "model = CIFAR10Classifier()\n",
    "#print(summary(model))\n",
    "#print(model.fc2.size)\n",
    "criterion = nn.CrossEntropyLoss()\n",
    "optimizer = optim.Adam(model.parameters(), lr=0.001)\n",
    "print(model)"
   ]
  },
  {
   "cell_type": "markdown",
   "metadata": {},
   "source": [
    "## Running your Neural Network\n",
    "Use whatever method you like to train your neural network, and ensure you record the average loss at each epoch. \n",
    "Don't forget to use `torch.device()` and the `.to()` method for both your model and your data if you are using GPU!\n",
    "\n",
    "If you want to print your loss during each epoch, you can use the `enumerate` function and print the loss after a set number of batches. 250 batches works well for most people!"
   ]
  },
  {
   "cell_type": "code",
   "execution_count": 39,
   "metadata": {},
   "outputs": [
    {
     "name": "stdout",
     "output_type": "stream",
     "text": [
      "Using device: cuda\n",
      "Epoch: 1/50:  Training Loss: 2.006  Training Accuracy: 0.250\t Test Loss: 1.764 Test Accuracy: 0.343\n",
      "Epoch: 2/50:  Training Loss: 1.707  Training Accuracy: 0.380\t Test Loss: 1.441 Test Accuracy: 0.474\n",
      "Epoch: 3/50:  Training Loss: 1.589  Training Accuracy: 0.425\t Test Loss: 1.352 Test Accuracy: 0.515\n",
      "Epoch: 4/50:  Training Loss: 1.511  Training Accuracy: 0.457\t Test Loss: 1.371 Test Accuracy: 0.503\n",
      "Epoch: 5/50:  Training Loss: 1.460  Training Accuracy: 0.477\t Test Loss: 1.268 Test Accuracy: 0.542\n",
      "Epoch: 6/50:  Training Loss: 1.403  Training Accuracy: 0.500\t Test Loss: 1.278 Test Accuracy: 0.537\n",
      "Epoch: 7/50:  Training Loss: 1.373  Training Accuracy: 0.507\t Test Loss: 1.221 Test Accuracy: 0.559\n",
      "Epoch: 8/50:  Training Loss: 1.338  Training Accuracy: 0.523\t Test Loss: 1.198 Test Accuracy: 0.563\n",
      "Epoch: 9/50:  Training Loss: 1.316  Training Accuracy: 0.532\t Test Loss: 1.153 Test Accuracy: 0.585\n",
      "Epoch: 10/50:  Training Loss: 1.281  Training Accuracy: 0.545\t Test Loss: 1.140 Test Accuracy: 0.593\n",
      "Epoch: 11/50:  Training Loss: 1.274  Training Accuracy: 0.548\t Test Loss: 1.128 Test Accuracy: 0.599\n",
      "Epoch: 12/50:  Training Loss: 1.252  Training Accuracy: 0.554\t Test Loss: 1.123 Test Accuracy: 0.597\n",
      "Epoch: 13/50:  Training Loss: 1.235  Training Accuracy: 0.563\t Test Loss: 1.097 Test Accuracy: 0.604\n",
      "Epoch: 14/50:  Training Loss: 1.224  Training Accuracy: 0.567\t Test Loss: 1.093 Test Accuracy: 0.609\n",
      "Epoch: 15/50:  Training Loss: 1.210  Training Accuracy: 0.571\t Test Loss: 1.079 Test Accuracy: 0.613\n",
      "Epoch: 16/50:  Training Loss: 1.191  Training Accuracy: 0.578\t Test Loss: 1.063 Test Accuracy: 0.622\n",
      "Epoch: 17/50:  Training Loss: 1.186  Training Accuracy: 0.581\t Test Loss: 1.079 Test Accuracy: 0.605\n",
      "Epoch: 18/50:  Training Loss: 1.176  Training Accuracy: 0.584\t Test Loss: 1.032 Test Accuracy: 0.634\n",
      "Epoch: 19/50:  Training Loss: 1.170  Training Accuracy: 0.587\t Test Loss: 1.107 Test Accuracy: 0.604\n",
      "Increasing loss, stopping training early\n"
     ]
    }
   ],
   "source": [
    "## YOUR CODE HERE ##\n",
    "device = torch.device('cuda' if torch.cuda.is_available() else 'cpu')\n",
    "model.to(device)\n",
    "print(f\"Using device: {device}\")\n",
    "epochs = 50\n",
    "train_losses, test_losses = [], []\n",
    "stop_early = False\n",
    "\n",
    "for e in range(epochs):\n",
    "    # === Run training pass ====\n",
    "    running_loss = 0\n",
    "    train_accuracy = 0.0\n",
    "    for images, labels in train_dataloader:\n",
    "        images = images.to(device)\n",
    "        labels = labels.to(device)\n",
    "        optimizer.zero_grad()\n",
    "        log_ps = model(images)\n",
    "        loss = criterion(log_ps, labels)\n",
    "        loss.backward()\n",
    "        optimizer.step()\n",
    "        running_loss += loss.item()\n",
    "        ps = torch.exp(log_ps)\n",
    "        top_p, top_class = ps.topk(1, dim=1)\n",
    "        equals = top_class == labels.view(*top_class.shape)\n",
    "        train_accuracy += torch.mean(equals.type(torch.FloatTensor))\n",
    "    # === Run testing pass =====\n",
    "    else:\n",
    "        test_loss = 0.0\n",
    "        test_accuracy = 0.0\n",
    "        with torch.no_grad():\n",
    "            model.eval() # Turn off dropouts\n",
    "            for images, labels in test_dataloader:\n",
    "                images = images.to(device)\n",
    "                labels = labels.to(device)\n",
    "                log_ps = model(images)\n",
    "                test_loss += criterion(log_ps, labels)\n",
    "                ps = torch.exp(log_ps)\n",
    "                top_p, top_class = ps.topk(1, dim=1)\n",
    "                equals = top_class == labels.view(*top_class.shape)\n",
    "                test_accuracy += torch.mean(equals.type(torch.FloatTensor))\n",
    "        train_losses.append(running_loss)\n",
    "        test_losses.append(test_loss)\n",
    "        print(\"Epoch: {}/{}: \".format(e+1, epochs),\n",
    "              \"Training Loss: {:.3f} \".format(running_loss/len(train_dataloader)),\n",
    "              \"Training Accuracy: {:.3f}\\t\".format(train_accuracy/len(train_dataloader)),\n",
    "              \"Test Loss: {:.3f}\".format(test_loss/len(test_dataloader)),\n",
    "              \"Test Accuracy: {:.3f}\".format(test_accuracy/len(test_dataloader)))\n",
    "    \n",
    "    if e>=10:\n",
    "        i = -5\n",
    "        current_train_losses = train_losses[i:]\n",
    "        current_test_losses = test_losses[i:]\n",
    "        TRAINS = [1 if prev > current else 0 for prev, current in zip(current_train_losses, current_train_losses[1:])]\n",
    "        TESTS = [1 if prev > current else 0 for prev, current in zip(current_test_losses, current_test_losses[1:])]\n",
    "\n",
    "        if sum(TRAINS)<3 or sum(TESTS)<3:\n",
    "            print(\"Increasing loss, stopping training early\")\n",
    "            break\n",
    "    "
   ]
  },
  {
   "cell_type": "markdown",
   "metadata": {},
   "source": [
    "Plot the training loss (and validation loss/accuracy, if recorded)."
   ]
  },
  {
   "cell_type": "code",
   "execution_count": 40,
   "metadata": {},
   "outputs": [
    {
     "data": {
      "image/png": "[encoded data removed]",
      "text/plain": [
       "<Figure size 432x288 with 1 Axes>"
      ]
     },
     "metadata": {
      "needs_background": "light"
     },
     "output_type": "display_data"
    }
   ],
   "source": [
    "## YOUR CODE HERE ##\n",
    "plt.plot([n/len(train_dataloader) for n in train_losses], label='Training loss')\n",
    "plt.plot(torch.Tensor(test_losses).cpu() / len(test_dataloader), label='Testing loss')\n",
    "plt.legend(frameon=False)\n",
    "plt.title('Normalized Losses')\n",
    "plt.ylabel('Normalized Loss')\n",
    "plt.xlabel('Epoch #')\n",
    "plt.show()"
   ]
  },
  {
   "cell_type": "markdown",
   "metadata": {},
   "source": [
    "## Testing your model\n",
    "Using the previously created `DataLoader` for the test set, compute the percentage of correct predictions using the highest probability prediction. \n",
    "\n",
    "If your accuracy is over 70%, great work! \n",
    "This is a hard task to exceed 70% on.\n",
    "\n",
    "If your accuracy is under 45%, you'll need to make improvements.\n",
    "Go back and check your model architecture, loss function, and optimizer to make sure they're appropriate for an image classification task."
   ]
  },
  {
   "cell_type": "code",
   "execution_count": null,
   "metadata": {},
   "outputs": [],
   "source": [
    "## YOUR CODE HERE ##\n",
    "train_loss = 0.0\n",
    "train_accuracy = 0.0\n",
    "with torch.no_grad():\n",
    "    model.eval()\n",
    "    for images, labels in train_dataloader:\n",
    "        images = images.to(device)\n",
    "        labels = labels.to(device)\n",
    "        log_ps = model(images)\n",
    "        train_loss += criterion(log_ps, labels)\n",
    "        ps = torch.exp(log_ps)\n",
    "        top_p, top_class = ps.topk(1, dim=1)\n",
    "        equals = top_class == labels.view(*top_class.shape)\n",
    "        train_accuracy += torch.mean(equals.type(torch.FloatTensor))\n",
    "\n",
    "print(\"Train accuracy: {:.3f}%\".format(100 * train_accuracy/len(train_dataloader)))\n",
    "\n",
    "test_loss = 0.0\n",
    "test_accuracy = 0.0\n",
    "with torch.no_grad():\n",
    "    model.eval() # Turn off dropouts\n",
    "    for images, labels in test_dataloader:\n",
    "        images = images.to(device)\n",
    "        labels = labels.to(device)\n",
    "        log_ps = model(images)\n",
    "        test_loss += criterion(log_ps, labels)\n",
    "        ps = torch.exp(log_ps)\n",
    "        top_p, top_class = ps.topk(1, dim=1)\n",
    "        equals = top_class == labels.view(*top_class.shape)\n",
    "        test_accuracy += torch.mean(equals.type(torch.FloatTensor))\n",
    "\n",
    "print(\"Test accuracy: {:.3f}%\".format(100 * test_accuracy/len(test_dataloader)))"
   ]
  },
  {
   "cell_type": "markdown",
   "metadata": {},
   "source": [
    "## Saving your model\n",
    "Using `torch.save`, save your model for future loading."
   ]
  },
  {
   "cell_type": "code",
   "execution_count": null,
   "metadata": {},
   "outputs": [],
   "source": [
    "## YOUR CODE HERE ##\n",
    "torch.save(model.state_dict(), 'CIFAR10_Classifier.pth')"
   ]
  },
  {
   "cell_type": "markdown",
   "metadata": {},
   "source": [
    "## Make a Recommendation\n",
    "\n",
    "Based on your evaluation, what is your recommendation on whether to build or buy? Explain your reasoning below."
   ]
  },
  {
   "cell_type": "markdown",
   "metadata": {},
   "source": [
    "I do not recommend purchasing the solution from Detectocorp. Using a fairly simple convolutional neural network with two convolution layers and only using the `ToTensor()` transform, I was able to train an AI that exceeds their capabilities (71% accuracy) on the testing set for CIFAR-10 and exceeds it (82.8% accuracy) on the training set. Including augmention, I was able to achieve 57.605% on the training set and 60.45% accuracy on the testing set. Based on these results, Detectocorp is either using a simple model such as this with an un-augmented dataset that memorizes the dataset pretty well, or using a well something similar to what is present in older literature. I do not recommend purchasing their model as some additional review of the literature should be sufficient for the internal team to develop a model that easily exceeds Detectocorp's model."
   ]
  },
  {
   "cell_type": "code",
   "execution_count": null,
   "metadata": {},
   "outputs": [],
   "source": []
  }
 ],
 "metadata": {
  "kernelspec": {
   "display_name": "Python 3 (ipykernel)",
   "language": "python",
   "name": "python3"
  },
  "language_info": {
   "codemirror_mode": {
    "name": "ipython",
    "version": 3
   },
   "file_extension": ".py",
   "mimetype": "text/x-python",
   "name": "python",
   "nbconvert_exporter": "python",
   "pygments_lexer": "ipython3",
   "version": "3.9.7"
  }
 },
 "nbformat": 4,
 "nbformat_minor": 4
}
